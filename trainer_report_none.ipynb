{
 "cells": [
  {
   "cell_type": "code",
   "execution_count": 2,
   "id": "dc91896a",
   "metadata": {},
   "outputs": [
    {
     "name": "stdout",
     "output_type": "stream",
     "text": [
      "hello\n",
      "hello\n",
      "hello\n",
      "hello\n",
      "hello\n",
      "hello\n",
      "hello\n",
      "hello\n",
      "hello\n",
      "hello\n",
      "\n"
     ]
    },
    {
     "data": {
      "text/html": [
       "<pre style=\"white-space:pre;overflow-x:auto;line-height:normal;font-family:Menlo,'DejaVu Sans Mono',consolas,'Courier New',monospace\">┏━━━━━━━┳━━━━━━━━━━━━━━━┳━━━━━━━━━━━━━━━━━┳━━━━━━━━━━┳━━━━━━━━━━┳━━━━━━━━━━━━━━┓\n",
       "┃<span style=\"color: #800080; text-decoration-color: #800080; font-weight: bold\"> Epoch </span>┃<span style=\"color: #800080; text-decoration-color: #800080; font-weight: bold\"> Training Loss </span>┃<span style=\"color: #800080; text-decoration-color: #800080; font-weight: bold\"> Validation Loss </span>┃<span style=\"color: #800080; text-decoration-color: #800080; font-weight: bold\">  RougeL  </span>┃<span style=\"color: #800080; text-decoration-color: #800080; font-weight: bold\">  Bleu4   </span>┃<span style=\"color: #800080; text-decoration-color: #800080; font-weight: bold\"> Bertscore F1 </span>┃\n",
       "┡━━━━━━━╇━━━━━━━━━━━━━━━╇━━━━━━━━━━━━━━━━━╇━━━━━━━━━━╇━━━━━━━━━━╇━━━━━━━━━━━━━━┩\n",
       "│   1   │   0.500000    │    0.400000     │ 0.310000 │ 0.095000 │   0.862000   │\n",
       "│   2   │   0.250000    │    0.200000     │ 0.320000 │ 0.100000 │   0.864000   │\n",
       "│   3   │   0.166667    │    0.133333     │ 0.330000 │ 0.105000 │   0.866000   │\n",
       "│   4   │   0.125000    │    0.100000     │ 0.340000 │ 0.110000 │   0.868000   │\n",
       "│   5   │   0.100000    │    0.080000     │ 0.350000 │ 0.115000 │   0.870000   │\n",
       "│   6   │   0.083333    │    0.066667     │ 0.360000 │ 0.120000 │   0.872000   │\n",
       "│   7   │   0.071429    │    0.057143     │ 0.370000 │ 0.125000 │   0.874000   │\n",
       "│   8   │   0.062500    │    0.050000     │ 0.380000 │ 0.130000 │   0.876000   │\n",
       "│   9   │   0.055556    │    0.044444     │ 0.390000 │ 0.135000 │   0.878000   │\n",
       "│  10   │   0.050000    │    0.040000     │ 0.400000 │ 0.140000 │   0.880000   │\n",
       "└───────┴───────────────┴─────────────────┴──────────┴──────────┴──────────────┘\n",
       "</pre>\n"
      ],
      "text/plain": [
       "┏━━━━━━━┳━━━━━━━━━━━━━━━┳━━━━━━━━━━━━━━━━━┳━━━━━━━━━━┳━━━━━━━━━━┳━━━━━━━━━━━━━━┓\n",
       "┃\u001b[1;35m \u001b[0m\u001b[1;35mEpoch\u001b[0m\u001b[1;35m \u001b[0m┃\u001b[1;35m \u001b[0m\u001b[1;35mTraining Loss\u001b[0m\u001b[1;35m \u001b[0m┃\u001b[1;35m \u001b[0m\u001b[1;35mValidation Loss\u001b[0m\u001b[1;35m \u001b[0m┃\u001b[1;35m \u001b[0m\u001b[1;35m RougeL \u001b[0m\u001b[1;35m \u001b[0m┃\u001b[1;35m \u001b[0m\u001b[1;35m Bleu4  \u001b[0m\u001b[1;35m \u001b[0m┃\u001b[1;35m \u001b[0m\u001b[1;35mBertscore F1\u001b[0m\u001b[1;35m \u001b[0m┃\n",
       "┡━━━━━━━╇━━━━━━━━━━━━━━━╇━━━━━━━━━━━━━━━━━╇━━━━━━━━━━╇━━━━━━━━━━╇━━━━━━━━━━━━━━┩\n",
       "│   1   │   0.500000    │    0.400000     │ 0.310000 │ 0.095000 │   0.862000   │\n",
       "│   2   │   0.250000    │    0.200000     │ 0.320000 │ 0.100000 │   0.864000   │\n",
       "│   3   │   0.166667    │    0.133333     │ 0.330000 │ 0.105000 │   0.866000   │\n",
       "│   4   │   0.125000    │    0.100000     │ 0.340000 │ 0.110000 │   0.868000   │\n",
       "│   5   │   0.100000    │    0.080000     │ 0.350000 │ 0.115000 │   0.870000   │\n",
       "│   6   │   0.083333    │    0.066667     │ 0.360000 │ 0.120000 │   0.872000   │\n",
       "│   7   │   0.071429    │    0.057143     │ 0.370000 │ 0.125000 │   0.874000   │\n",
       "│   8   │   0.062500    │    0.050000     │ 0.380000 │ 0.130000 │   0.876000   │\n",
       "│   9   │   0.055556    │    0.044444     │ 0.390000 │ 0.135000 │   0.878000   │\n",
       "│  10   │   0.050000    │    0.040000     │ 0.400000 │ 0.140000 │   0.880000   │\n",
       "└───────┴───────────────┴─────────────────┴──────────┴──────────┴──────────────┘\n"
      ]
     },
     "metadata": {},
     "output_type": "display_data"
    }
   ],
   "source": [
    "from rich.console import Console\n",
    "from rich.table import Table\n",
    "from tqdm import tqdm\n",
    "\n",
    "console = Console()\n",
    "\n",
    "# Create the table\n",
    "table = Table(show_header=True, header_style=\"bold magenta\")\n",
    "table.add_column(\"Epoch\", justify=\"center\")\n",
    "table.add_column(\"Training Loss\", justify=\"center\")\n",
    "table.add_column(\"Validation Loss\", justify=\"center\")\n",
    "table.add_column(\"RougeL\", justify=\"center\")\n",
    "table.add_column(\"Bleu4\", justify=\"center\")\n",
    "table.add_column(\"Bertscore F1\", justify=\"center\")\n",
    "\n",
    "# Let's say after every epoch you append results:\n",
    "for epoch in range(1, 11):\n",
    "    # Dummy values\n",
    "    training_loss = 0.5 / epoch\n",
    "    validation_loss = 0.4 / epoch\n",
    "    rougeL = 0.3 + 0.01 * epoch\n",
    "    bleu4 = 0.09 + 0.005 * epoch\n",
    "    bert_f1 = 0.86 + 0.002 * epoch\n",
    "\n",
    "    table.add_row(\n",
    "        str(epoch),\n",
    "        f\"{training_loss:.6f}\",\n",
    "        f\"{validation_loss:.6f}\",\n",
    "        f\"{rougeL:.6f}\",\n",
    "        f\"{bleu4:.6f}\",\n",
    "        f\"{bert_f1:.6f}\",\n",
    "    )\n",
    "    print(\"hello\")\n",
    "\n",
    "# Use tqdm.write so progress bar is not broken\n",
    "tqdm.write(\"\")\n",
    "console.print(table)\n"
   ]
  },
  {
   "cell_type": "code",
   "execution_count": null,
   "id": "0e20c47b",
   "metadata": {},
   "outputs": [],
   "source": [
    "from transformers import Trainer, TrainingArguments"
   ]
  },
  {
   "cell_type": "code",
   "execution_count": null,
   "id": "382dc8c0",
   "metadata": {},
   "outputs": [
    {
     "data": {
      "text/html": [
       "\n",
       "    <div>\n",
       "      \n",
       "      <progress value='2' max='10' style='width:300px; height:20px; vertical-align: middle;'></progress>\n",
       "      [ 2/10 00:05 < 00:41, 0.19 it/s, Epoch 2/10]\n",
       "    </div>\n",
       "    <table border=\"1\" class=\"dataframe\">\n",
       "  <thead>\n",
       " <tr style=\"text-align: left;\">\n",
       "      <th>epoch</th>\n",
       "      <th>loss</th>\n",
       "    </tr>\n",
       "  </thead>\n",
       "  <tbody>\n",
       "    <tr>\n",
       "      <td>0</td>\n",
       "      <td>0.000000</td>\n",
       "    </tr>\n",
       "    <tr>\n",
       "      <td>1</td>\n",
       "      <td>0.100000</td>\n",
       "    </tr>\n",
       "  </tbody>\n",
       "</table><p>\n",
       "    <div>\n",
       "      \n",
       "      <progress value='4' max='10' style='width:300px; height:20px; vertical-align: middle;'></progress>\n",
       "      [ 4/10 00:01 < 00:03, 1.95 it/s]\n",
       "    </div>\n",
       "    "
      ],
      "text/plain": [
       "<IPython.core.display.HTML object>"
      ]
     },
     "metadata": {},
     "output_type": "display_data"
    },
    {
     "name": "stdout",
     "output_type": "stream",
     "text": [
      "total: 10\n",
      "hello\n",
      "hello\n",
      "hello\n",
      "hello\n",
      "hello\n",
      "hello\n",
      "hello\n",
      "hello\n",
      "hello\n",
      "hello\n",
      "this\n",
      "total: 10\n",
      "hello\n",
      "hello\n",
      "hello\n",
      "hello\n"
     ]
    },
    {
     "ename": "KeyboardInterrupt",
     "evalue": "",
     "output_type": "error",
     "traceback": [
      "\u001b[1;31m---------------------------------------------------------------------------\u001b[0m",
      "\u001b[1;31mKeyboardInterrupt\u001b[0m                         Traceback (most recent call last)",
      "Cell \u001b[1;32mIn[34], line 15\u001b[0m\n\u001b[0;32m     13\u001b[0m \u001b[38;5;28mprint\u001b[39m(\u001b[38;5;124m\"\u001b[39m\u001b[38;5;124mtotal:\u001b[39m\u001b[38;5;124m\"\u001b[39m,pred_bar\u001b[38;5;241m.\u001b[39mtotal)\n\u001b[0;32m     14\u001b[0m \u001b[38;5;28;01mfor\u001b[39;00m j \u001b[38;5;129;01min\u001b[39;00m \u001b[38;5;28mrange\u001b[39m(\u001b[38;5;241m10\u001b[39m):\n\u001b[1;32m---> 15\u001b[0m     \u001b[43mtime\u001b[49m\u001b[38;5;241;43m.\u001b[39;49m\u001b[43msleep\u001b[49m\u001b[43m(\u001b[49m\u001b[38;5;241;43m0.5\u001b[39;49m\u001b[43m)\u001b[49m\n\u001b[0;32m     16\u001b[0m     pred_bar\u001b[38;5;241m.\u001b[39mupdate(j\u001b[38;5;241m+\u001b[39m\u001b[38;5;241m1\u001b[39m)\n\u001b[0;32m     17\u001b[0m     \u001b[38;5;28mprint\u001b[39m(\u001b[38;5;124m\"\u001b[39m\u001b[38;5;124mhello\u001b[39m\u001b[38;5;124m\"\u001b[39m)\n",
      "\u001b[1;31mKeyboardInterrupt\u001b[0m: "
     ]
    }
   ],
   "source": [
    "from tqdm.auto import tqdm\n",
    "import time\n",
    "from transformers.utils.notebook import NotebookTrainingTracker,NotebookProgressBar\n",
    "\n",
    "tracker=NotebookTrainingTracker(10)\n",
    "# tracker.add_child(NotebookProgressBar(10))\n",
    "for i in range(10):\n",
    "    tracker.update(i+1,comment=f\"Epoch {i+1}/{10}\",)\n",
    "    tracker.write_line({\"epoch\": i, \"loss\": 0.1*i})\n",
    "    tracker.display()\n",
    "    pred_bar=tracker.add_child(10)\n",
    "    # pred_bar=NotebookProgressBar(10)\n",
    "    print(\"total:\",pred_bar.total)\n",
    "    for j in range(10):\n",
    "        time.sleep(0.5)\n",
    "        pred_bar.update(j+1)\n",
    "        print(\"hello\")\n",
    "    pred_bar.close()\n",
    "    tracker.remove_child()\n",
    "\n",
    "    print(\"this\")\n",
    "    # time.sleep(0.5)\n",
    "    # tqdm.write(\"Halfway done!\")  # 😎 progress bar stays perfect\n",
    "    # print(\"hello\")"
   ]
  }
 ],
 "metadata": {
  "kernelspec": {
   "display_name": "Python 3",
   "language": "python",
   "name": "python3"
  },
  "language_info": {
   "codemirror_mode": {
    "name": "ipython",
    "version": 3
   },
   "file_extension": ".py",
   "mimetype": "text/x-python",
   "name": "python",
   "nbconvert_exporter": "python",
   "pygments_lexer": "ipython3",
   "version": "3.10.13"
  }
 },
 "nbformat": 4,
 "nbformat_minor": 5
}
